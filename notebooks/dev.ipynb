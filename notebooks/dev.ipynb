{
 "cells": [
  {
   "cell_type": "code",
   "execution_count": null,
   "metadata": {},
   "outputs": [],
   "source": [
    "import os\n",
    "\n",
    "import pandas as pd\n",
    "import tweepy\n",
    "from dateutil import parser\n",
    "from dotenv import load_dotenv\n",
    "\n",
    "load_dotenv()\n",
    "\n",
    "auth = tweepy.OAuthHandler(os.environ[\"TWITTER_KEY\"], os.environ[\"TWITTER_SECRET_KEY\"])\n",
    "auth.set_access_token(\n",
    "    os.environ[\"TWITTER_ACCESS_TOKEN\"], os.environ[\"TWITTER_ACCESS_TOKEN_SECRET\"]\n",
    ")\n",
    "twitter_client = tweepy.API(auth)\n",
    "MAX_TWEETS = 200  # no need to paginate\n",
    "\n",
    "\n",
    "def get_liked_tweets(limit=MAX_TWEETS):\n",
    "    tweets_page = twitter_client.get_favorites(\n",
    "        user_id=os.environ[\"TWITTER_USERNAME\"], tweet_mode=\"extended\", count=limit\n",
    "    )\n",
    "\n",
    "\n",
    "get_liked_tweets()\n",
    ""
   ]
  },
  {
   "cell_type": "code",
   "execution_count": null,
   "metadata": {},
   "outputs": [],
   "source": [
    "twitter_client.get_favorites()\n",
    ""
   ]
  },
  {
   "cell_type": "code",
   "execution_count": null,
   "metadata": {},
   "outputs": [],
   "source": [
    "from TwitterAPI import TwitterAPI\n",
    "\n",
    "api = TwitterAPI(\n",
    "    os.environ[\"TWITTER_KEY\"],\n",
    "    os.environ[\"TWITTER_SECRET_KEY\"],\n",
    "    os.environ[\"TWITTER_ACCESS_TOKEN\"],\n",
    "    os.environ[\"TWITTER_ACCESS_TOKEN_SECRET\"],\n",
    "    api_version=\"2\",\n",
    ")\n",
    "r = api.request(\n",
    "    \"tweets/search/recent\",\n",
    "    {\"query\": \"pizza\", \"tweet.fields\": \"author_id\", \"expansions\": \"author_id\"},\n",
    ")\n",
    "# for item in r:\n",
    "#         print(item)\n",
    ""
   ]
  },
  {
   "cell_type": "code",
   "execution_count": null,
   "metadata": {},
   "outputs": [],
   "source": [
    "for item in r:\n",
    "    item\n",
    ""
   ]
  },
  {
   "cell_type": "code",
   "execution_count": null,
   "metadata": {},
   "outputs": [],
   "source": [
    "twitter_client.get_liked_tweets(os.environ[\"TWITTER_USERNAME\"])\n",
    ""
   ]
  },
  {
   "cell_type": "code",
   "execution_count": null,
   "metadata": {},
   "outputs": [],
   "source": [
    "import pandas as pd\n",
    "import requests\n",
    "\n",
    "twitter_data = []\n",
    "\n",
    "payload = {\"api_key\": scaper_api_key, \"query\": \"sentiment analysis\", \"num\": \"100\"}\n",
    "response = requests.get(\n",
    "    \"https://api.scraperapi.com/structured/twitter/search\", params=payload\n",
    ")\n",
    "data = response.json()\n",
    "\n",
    "all_tweets = data[\"tweets\"]\n",
    "for tweet in all_tweets:\n",
    "    twitter_data.append(\n",
    "        {\n",
    "            \"ID\": tweet[\"tweet_id\"],\n",
    "            \"User\": tweet[\"user\"],\n",
    "            \"Tweet\": tweet[\"text\"],\n",
    "            \"URL\": tweet[\"link\"],\n",
    "        }\n",
    "    )\n",
    "\n",
    "df = pd.DataFrame(twitter_data)\n",
    "df.to_json(\"scraped_tweets.json\", orient=\"index\")\n",
    "print(\"Tweets exported to JSON\")\n",
    ""
   ]
  },
  {
   "cell_type": "code",
   "execution_count": null,
   "metadata": {},
   "outputs": [],
   "source": [
    "import requests\n",
    "\n",
    "payload = {\n",
    "    \"api_key\": scraper_api_key,\n",
    "    \"limit\": \"100\",\n",
    "    \"user\": \"samhardyhey\",\n",
    "}\n",
    "\n",
    "response = requests.get(\n",
    "    \"https://api.scraperapi.com/structured/twitter/liked\", params=payload\n",
    ")\n",
    "\n",
    "print(response.content)\n",
    ""
   ]
  },
  {
   "cell_type": "code",
   "execution_count": null,
   "metadata": {},
   "outputs": [],
   "source": [
    "response.json()\n",
    ""
   ]
  }
 ],
 "metadata": {
  "kernelspec": {
   "display_name": "p310",
   "language": "python",
   "name": "python3"
  },
  "language_info": {
   "codemirror_mode": {
    "name": "ipython",
    "version": 3
   },
   "file_extension": ".py",
   "mimetype": "text/x-python",
   "name": "python",
   "nbconvert_exporter": "python",
   "pygments_lexer": "ipython3",
   "version": "3.10.10"
  }
 },
 "nbformat": 4,
 "nbformat_minor": 2
}
