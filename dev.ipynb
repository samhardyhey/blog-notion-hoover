{
 "cells": [
  {
   "cell_type": "code",
   "execution_count": null,
   "metadata": {},
   "outputs": [],
   "source": [
    "from ingest.linkedin import linkedin_client\n",
    "\n",
    "linkedin_client\n",
    ""
   ]
  },
  {
   "attachments": {},
   "cell_type": "markdown",
   "metadata": {},
   "source": [
    "## Linked-in Voyager dev"
   ]
  },
  {
   "cell_type": "code",
   "execution_count": null,
   "metadata": {},
   "outputs": [],
   "source": [
    "# manually retrieve html? - no new data, same voyager endpoints\n",
    "import requests\n",
    "from bs4 import BeautifulSoup\n",
    "\n",
    "url = \"https://www.linkedin.com/in/samhardyhey/recent-activity/reactions/\"\n",
    "response = linkedin_client.client.session.get(url)\n",
    "\n",
    "if response.status_code == 200:\n",
    "    html_content = response.content\n",
    "    soup = BeautifulSoup(html_content, \"html.parser\")\n",
    "else:\n",
    "    print(f\"Error {response.status_code}: {response.reason}\")\n",
    ""
   ]
  },
  {
   "cell_type": "code",
   "execution_count": null,
   "metadata": {},
   "outputs": [],
   "source": [
    "# parse voyager endpoints\n",
    "from bs4 import BeautifulSoup\n",
    "\n",
    "voyager_endpoints = []\n",
    "with open(\"./data/selenium_scrape.html\", \"r\") as f:\n",
    "    soup = BeautifulSoup(f, \"html.parser\")\n",
    "    for code in soup.find_all(\"code\", {\"id\": lambda x: x and x.startswith(\"datalet-\")}):\n",
    "        voyager_endpoints.append(eval(code.text.strip()))\n",
    ""
   ]
  },
  {
   "cell_type": "code",
   "execution_count": null,
   "metadata": {},
   "outputs": [],
   "source": [
    "# inspect each endpoint's response\n",
    "res_all = []\n",
    "for endpoint in voyager_endpoints:\n",
    "    print(endpoint[\"request\"])\n",
    "    replace = \"/voyager/api\"\n",
    "    res = linkedin_client._fetch(uri=endpoint[\"request\"].replace(replace, \"\"))\n",
    "    res = res.json()\n",
    "    res[\"endpoint\"] = endpoint[\"request\"]\n",
    "    res_all.append(res)\n",
    ""
   ]
  },
  {
   "cell_type": "code",
   "execution_count": null,
   "metadata": {},
   "outputs": [],
   "source": [
    "import srsly\n",
    "\n",
    "srsly.write_jsonl(\"./data/voyager_responses.json\", res_all)\n",
    ""
   ]
  },
  {
   "cell_type": "code",
   "execution_count": null,
   "metadata": {},
   "outputs": [],
   "source": [
    "from ingest.linkedin import Linkedin\n",
    "\n",
    "# TODO: find liked post resource? > inspect page element\n",
    "# https://www.linkedin.com/in/samhardyhey/recent-activity/reactions/\n",
    "x = {\n",
    "    \"request\": \"/voyager/api/me\",\n",
    "    \"status\": 200,\n",
    "    \"body\": \"bpr-guid-696917\",\n",
    "    \"method\": \"GET\",\n",
    "    \"headers\": {\"x-li-uuid\": \"AAX36V11Xzkme9nvkQAg7g\\u003D\\u003D\"},\n",
    "}\n",
    "x = {\n",
    "    \"request\": \"/voyager/api/growth/pageContent/flagship_desktop_surveys?slotId\\u003Dsurveys\",\n",
    "    \"status\": 200,\n",
    "    \"body\": \"bpr-guid-106668\",\n",
    "    \"method\": \"GET\",\n",
    "    \"headers\": {\"x-li-uuid\": \"AAX4ENQwMUo+0Bta3nH4dg\\u003D\\u003D\"},\n",
    "}\n",
    ""
   ]
  },
  {
   "cell_type": "markdown",
   "metadata": {},
   "source": [
    "## Linkedin Selenium Dev"
   ]
  },
  {
   "cell_type": "code",
   "execution_count": null,
   "metadata": {},
   "outputs": [],
   "source": [
    "from ingest.linkedin import get_post_description\n",
    "\n",
    "update_containers = driver.find_elements(\n",
    "    By.CLASS_NAME, \"profile-creator-shared-feed-update__container\"\n",
    ")\n",
    "update_containers = [e for e in update_containers if len(get_post_description(e)) > 2]\n",
    ""
   ]
  },
  {
   "cell_type": "code",
   "execution_count": null,
   "metadata": {},
   "outputs": [],
   "source": [
    "from selenium.webdriver.remote.webelement import WebElement\n",
    "\n",
    "\n",
    "def find_links(element: WebElement):\n",
    "    if element.tag_name == \"a\" and element.get_attribute(\"href\"):\n",
    "        parent = element.find_element(By.XPATH, \"..\")\n",
    "        print(parent.get_attribute(\"class\"))\n",
    "        print(element.get_attribute(\"href\"))\n",
    "    for child in element.find_elements(By.XPATH, \"*\"):\n",
    "        find_links(child)\n",
    "\n",
    "\n",
    "find_links(update_containers[0])\n",
    ""
   ]
  },
  {
   "cell_type": "code",
   "execution_count": null,
   "metadata": {},
   "outputs": [],
   "source": [
    "elements = update_containers[0].find_elements(By.CLASS_NAME, \"app-aware-link\")\n",
    "for e in elements:\n",
    "    e.get_attribute(\"href\")\n",
    ""
   ]
  },
  {
   "cell_type": "code",
   "execution_count": null,
   "metadata": {},
   "outputs": [],
   "source": [
    "from ingest.linkedin import get_liked_posts\n",
    "\n",
    "posts = get_liked_posts()\n",
    ""
   ]
  },
  {
   "cell_type": "code",
   "execution_count": null,
   "metadata": {},
   "outputs": [],
   "source": []
  }
 ],
 "metadata": {
  "kernelspec": {
   "display_name": "p310",
   "language": "python",
   "name": "python3"
  },
  "language_info": {
   "codemirror_mode": {
    "name": "ipython",
    "version": 3
   },
   "file_extension": ".py",
   "mimetype": "text/x-python",
   "name": "python",
   "nbconvert_exporter": "python",
   "pygments_lexer": "ipython3",
   "version": "3.10.10"
  }
 },
 "nbformat": 4,
 "nbformat_minor": 2
}
