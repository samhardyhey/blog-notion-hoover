{
 "cells": [
  {
   "cell_type": "code",
   "execution_count": null,
   "metadata": {},
   "outputs": [],
   "source": [
    "- reddit, get liked posts\n",
    "- twitter, get liked tweets\n",
    "- linkedin, get liked posts\n",
    "\n",
    "\n",
    "- consolidate into single format"
   ]
  },
  {
   "cell_type": "code",
   "execution_count": null,
   "metadata": {},
   "outputs": [],
   "source": [
    "from ingest.linkedin import get_liked_posts\n",
    "from ingest.reddit import get_saved_posts\n",
    "from ingest.twitter import get_liked_tweets\n",
    "\n",
    "reddit_posts = get_saved_posts()\n",
    "twitter_posts = get_liked_tweets()\n",
    "# linkedin_posts = get_liked_posts()\n",
    ""
   ]
  },
  {
   "cell_type": "code",
   "execution_count": null,
   "metadata": {},
   "outputs": [],
   "source": [
    "reddit_posts.head()\n",
    "twitter_posts.head()\n",
    ""
   ]
  },
  {
   "cell_type": "code",
   "execution_count": null,
   "metadata": {},
   "outputs": [],
   "source": [
    "https://www.notion.so/all-likes-ba68561242ef436fa8807a2c1c84cc1f?pvs=4"
   ]
  },
  {
   "cell_type": "code",
   "execution_count": null,
   "metadata": {},
   "outputs": [],
   "source": [
    "os.environ\n",
    ""
   ]
  },
  {
   "cell_type": "code",
   "execution_count": null,
   "metadata": {},
   "outputs": [],
   "source": [
    "import os\n",
    "from datetime import datetime, timezone\n",
    "\n",
    "from dotenv import load_dotenv\n",
    "from notion_client import Client\n",
    "\n",
    "load_dotenv()\n",
    "\n",
    "# Get the Notion API token\n",
    "notion = Client(auth=os.environ[\"NOTION_API_KEY\"])\n",
    "\n",
    "# Define the database ID and create a new page\n",
    "database_id = os.environ[\"NOTION_DB_ID\"]\n",
    "new_page = {\n",
    "    \"Name\": {\"title\": [{\"text\": {\"content\": \"test\"}}]},\n",
    "    \"URL\": {\"url\": \"test\"},\n",
    "    \"Date\": {\"date\": {\"start\": datetime.now(timezone.utc).isoformat()}},\n",
    "    \"Type\": {\"select\": {\"name\": \"INSERT_PAGE_TYPE_HERE\"}},\n",
    "}\n",
    "created_page = notion.pages.create(\n",
    "    parent={\"database_id\": database_id}, properties=new_page\n",
    ")\n",
    ""
   ]
  },
  {
   "cell_type": "code",
   "execution_count": null,
   "metadata": {},
   "outputs": [],
   "source": [
    "{\"object\":\"list\",\"results\":[{\"object\":\"database\",\"id\":\"6c122c94-0c14-485e-9fb4-ccf2b7cf7f03\",\"cover\":null,\"icon\":null,\"created_time\":\"2023-03-26T05:49:00.000Z\",\"created_by\":{\"object\":\"user\",\"id\":\"cf244151-6263-4ad8-af60-b56f1aa0c31a\"},\"last_edited_by\":{\"object\":\"user\",\"id\":\"cf244151-6263-4ad8-af60-b56f1aa0c31a\"},\"last_edited_time\":\"2023-03-26T05:59:00.000Z\",\"title\":[{\"type\":\"text\",\"text\":{\"content\":\"ml_research\",\"link\":null},\"annotations\":{\"bold\":false,\"italic\":false,\"strikethrough\":false,\"underline\":false,\"code\":false,\"color\":\"default\"},\"plain_text\":\"ml_research\",\"href\":null}],\"description\":[],\"is_inline\":false,\"properties\":{\"Tags\":{\"id\":\"CHVP\",\"name\":\"Tags\",\"type\":\"multi_select\",\"multi_select\":{\"options\":[]}},\"Name\":{\"id\":\"title\",\"name\":\"Name\",\"type\":\"title\",\"title\":{}}},\"parent\":{\"type\":\"page_id\",\"page_id\":\"fe8de888-c5dc-4acb-8d24-ef2b6a024399\"},\"url\":\"https://www.notion.so/6c122c940c14485e9fb4ccf2b7cf7f03\",\"archived\":false}],\"next_cursor\":null,\"has_more\":false,\"type\":\"page_or_database\",\"page_or_database\":{}}%  \n",
    "\n",
    "curl -X POST 'https://api.notion.com/v1/search' \\\n",
    "  -H 'Authorization: Bearer '\"secret_4k65z7bI4T2IRZXgATj4Oa42NpND6hUqfwtE5Kv8nrJ\"'' \\\n",
    "  -H 'Content-Type: application/json' \\\n",
    "  -H 'Notion-Version: 2022-06-28' \\\n",
    "  --data '{\n",
    "    \"query\":\"resarch\",\n",
    "    \"filter\": {\n",
    "        \"value\": \"database\",\n",
    "        \"property\": \"object\"\n",
    "    },\n",
    "    \"sort\":{\n",
    "      \"direction\":\"ascending\",\n",
    "      \"timestamp\":\"last_edited_time\"\n",
    "    }\n",
    "  }'"
   ]
  },
  {
   "cell_type": "code",
   "execution_count": null,
   "metadata": {},
   "outputs": [],
   "source": [
    "created_page\n",
    ""
   ]
  },
  {
   "cell_type": "code",
   "execution_count": null,
   "metadata": {},
   "outputs": [],
   "source": []
  }
 ],
 "metadata": {
  "kernelspec": {
   "display_name": "p310",
   "language": "python",
   "name": "python3"
  },
  "language_info": {
   "codemirror_mode": {
    "name": "ipython",
    "version": 3
   },
   "file_extension": ".py",
   "mimetype": "text/x-python",
   "name": "python",
   "nbconvert_exporter": "python",
   "pygments_lexer": "ipython3",
   "version": "3.10.10"
  }
 },
 "nbformat": 4,
 "nbformat_minor": 2
}
