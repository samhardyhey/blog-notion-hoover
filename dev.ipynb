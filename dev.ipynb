{
 "cells": [
  {
   "cell_type": "code",
   "execution_count": null,
   "metadata": {},
   "outputs": [],
   "source": [
    "- reddit, get liked posts\n",
    "- twitter, get liked tweets\n",
    "- linkedin, get liked posts\n",
    "\n",
    "\n",
    "- consolidate into single format"
   ]
  },
  {
   "cell_type": "code",
   "execution_count": 46,
   "metadata": {},
   "outputs": [],
   "source": []
  },
  {
   "cell_type": "code",
   "execution_count": 68,
   "metadata": {},
   "outputs": [
    {
     "data": {
      "text/plain": [
       "200"
      ]
     },
     "execution_count": 68,
     "metadata": {},
     "output_type": "execute_result"
    }
   ],
   "source": [
    "from ingest.twitter import twitter_client\n",
    "import os\n",
    "page_size = 300\n",
    "\n",
    "tweets_page = twitter_client.get_favorites(\n",
    "            user_id=os.environ[\"TWITTER_USERNAME\"], tweet_mode=\"extended\", count=page_size\n",
    "        )\n",
    "\n",
    "len(tweets_page)"
   ]
  },
  {
   "cell_type": "code",
   "execution_count": null,
   "metadata": {},
   "outputs": [],
   "source": [
    "body.properties.text.files should be defined, instead was `undefined`.\n",
    "body.properties.text.status should be defined, instead was `undefined`.\n",
    "body.properties.text.id should be defined, instead was `undefined`.\n",
    "body.properties.text.name should be defined, instead was `undefined`.\n",
    "body.properties.text.start should be defined, instead was `undefined`."
   ]
  },
  {
   "cell_type": "code",
   "execution_count": null,
   "metadata": {},
   "outputs": [],
   "source": [
    "{\n",
    "  \"Grocery item\": {\n",
    "    \"type\": \"title\",\n",
    "    \"title\": [{ \"type\": \"text\", \"text\": { \"content\": \"Tomatoes\" } }]\n",
    "  },\n",
    "  \"Price\": {\n",
    "    \"type\": \"number\",\n",
    "    \"number\": 1.49\n",
    "  },\n",
    "  \"Last ordered\": {\n",
    "    \"type\": \"date\",\n",
    "    \"date\": { \"start\": \"2021-05-11\" }\n",
    "  }\n",
    "}\n",
    "\n",
    "# import os\n",
    "# import requests\n",
    "\n",
    "# headers = {\n",
    "#     \"Authorization\": \"Bearer \" + os.environ['NOTION_API_KEY'],\n",
    "#     \"Content-Type\": \"application/json\",\n",
    "#     \"Notion-Version\": \"2022-06-28\",\n",
    "# }\n",
    "\n",
    "# def create_page(data: dict):\n",
    "#     create_url = \"https://api.notion.com/v1/pages\"\n",
    "\n",
    "#     payload = {\"parent\": {\"database_id\": os.environ['NOTION_DB_ID']}, \"properties\": data}\n",
    "\n",
    "#     return requests.post(create_url, headers=headers, json=payload)\n",
    "\n",
    "# new_page = format_notion_record(all_records[1])\n",
    "# res = create_page(new_page)"
   ]
  },
  {
   "cell_type": "code",
   "execution_count": null,
   "metadata": {},
   "outputs": [],
   "source": [
    "all_records"
   ]
  },
  {
   "cell_type": "code",
   "execution_count": 53,
   "metadata": {},
   "outputs": [
    {
     "data": {
      "text/plain": [
       "'51891eeaf8474a2d8b54ef9ee28fa23b'"
      ]
     },
     "execution_count": 53,
     "metadata": {},
     "output_type": "execute_result"
    }
   ],
   "source": [
    "from uuid import uuid4\n",
    "\n",
    "uuid4().hex"
   ]
  },
  {
   "cell_type": "code",
   "execution_count": 57,
   "metadata": {},
   "outputs": [
    {
     "data": {
      "text/plain": [
       "'3e90b9f0'"
      ]
     },
     "execution_count": 57,
     "metadata": {},
     "output_type": "execute_result"
    }
   ],
   "source": []
  },
  {
   "cell_type": "code",
   "execution_count": 59,
   "metadata": {},
   "outputs": [],
   "source": []
  },
  {
   "cell_type": "code",
   "execution_count": null,
   "metadata": {},
   "outputs": [],
   "source": [
    "from ingest.notion import filter_page_by_property\n",
    "\n",
    "filter_page_by_property(\"Name\", \"test\")"
   ]
  }
 ],
 "metadata": {
  "kernelspec": {
   "display_name": "p310",
   "language": "python",
   "name": "python3"
  },
  "language_info": {
   "codemirror_mode": {
    "name": "ipython",
    "version": 3
   },
   "file_extension": ".py",
   "mimetype": "text/x-python",
   "name": "python",
   "nbconvert_exporter": "python",
   "pygments_lexer": "ipython3",
   "version": "3.10.10"
  }
 },
 "nbformat": 4,
 "nbformat_minor": 2
}
