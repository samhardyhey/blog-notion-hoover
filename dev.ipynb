{
 "cells": [
  {
   "cell_type": "code",
   "execution_count": null,
   "metadata": {},
   "outputs": [],
   "source": [
    "from ingest.linkedin import linkedin_client\n",
    "\n",
    "linkedin_client\n"
   ]
  },
  {
   "attachments": {},
   "cell_type": "markdown",
   "metadata": {},
   "source": [
    "## Linked-in Voyager dev"
   ]
  },
  {
   "cell_type": "code",
   "execution_count": null,
   "metadata": {},
   "outputs": [],
   "source": [
    "# manually retrieve html? - no new data, same voyager endpoints\n",
    "import requests\n",
    "from bs4 import BeautifulSoup\n",
    "\n",
    "url = \"https://www.linkedin.com/in/samhardyhey/recent-activity/reactions/\"\n",
    "response = linkedin_client.client.session.get(url)\n",
    "\n",
    "if response.status_code == 200:\n",
    "    html_content = response.content\n",
    "    soup = BeautifulSoup(html_content, \"html.parser\")\n",
    "else:\n",
    "    print(f\"Error {response.status_code}: {response.reason}\")\n"
   ]
  },
  {
   "cell_type": "code",
   "execution_count": null,
   "metadata": {},
   "outputs": [],
   "source": [
    "# parse voyager endpoints\n",
    "from bs4 import BeautifulSoup\n",
    "\n",
    "voyager_endpoints = []\n",
    "with open(\"./data/selenium_scrape.html\", \"r\") as f:\n",
    "    soup = BeautifulSoup(f, \"html.parser\")\n",
    "    for code in soup.find_all(\"code\", {\"id\": lambda x: x and x.startswith(\"datalet-\")}):\n",
    "        voyager_endpoints.append(eval(code.text.strip()))\n"
   ]
  },
  {
   "cell_type": "code",
   "execution_count": null,
   "metadata": {},
   "outputs": [],
   "source": [
    "# inspect each endpoint's response\n",
    "res_all = []\n",
    "for endpoint in voyager_endpoints:\n",
    "    print(endpoint[\"request\"])\n",
    "    replace = \"/voyager/api\"\n",
    "    res = linkedin_client._fetch(uri=endpoint[\"request\"].replace(replace, \"\"))\n",
    "    res = res.json()\n",
    "    res[\"endpoint\"] = endpoint[\"request\"]\n",
    "    res_all.append(res)\n"
   ]
  },
  {
   "cell_type": "code",
   "execution_count": null,
   "metadata": {},
   "outputs": [],
   "source": [
    "import srsly\n",
    "\n",
    "srsly.write_jsonl(\"./data/voyager_responses.json\", res_all)\n"
   ]
  },
  {
   "cell_type": "code",
   "execution_count": null,
   "metadata": {},
   "outputs": [],
   "source": [
    "from ingest.linkedin import Linkedin\n",
    "\n",
    "# TODO: find liked post resource? > inspect page element\n",
    "# https://www.linkedin.com/in/samhardyhey/recent-activity/reactions/\n",
    "x = {\n",
    "    \"request\": \"/voyager/api/me\",\n",
    "    \"status\": 200,\n",
    "    \"body\": \"bpr-guid-696917\",\n",
    "    \"method\": \"GET\",\n",
    "    \"headers\": {\"x-li-uuid\": \"AAX36V11Xzkme9nvkQAg7g\\u003D\\u003D\"},\n",
    "}\n",
    "x = {\n",
    "    \"request\": \"/voyager/api/growth/pageContent/flagship_desktop_surveys?slotId\\u003Dsurveys\",\n",
    "    \"status\": 200,\n",
    "    \"body\": \"bpr-guid-106668\",\n",
    "    \"method\": \"GET\",\n",
    "    \"headers\": {\"x-li-uuid\": \"AAX4ENQwMUo+0Bta3nH4dg\\u003D\\u003D\"},\n",
    "}\n"
   ]
  },
  {
   "attachments": {},
   "cell_type": "markdown",
   "metadata": {},
   "source": [
    "## evaluate via Argilla"
   ]
  },
  {
   "cell_type": "code",
   "execution_count": 70,
   "metadata": {},
   "outputs": [],
   "source": [
    "from argilla.client.api import load\n",
    "\n",
    "# after some annotations, load in dataset\n",
    "labelled = (\n",
    "    load(\"tech_classification_validation\").to_pandas().pipe(lambda x: x[~x.annotation.isna()])\n",
    "    .assign(prediction=lambda x: x.prediction.apply(lambda y: y[0][0]))\n",
    ")\n",
    "\n",
    "from sklearn.metrics import classification_report\n",
    "\n",
    "pd.DataFrame(classification_report(labelled.annotation, labelled.prediction, output_dict=True))"
   ]
  },
  {
   "cell_type": "code",
   "execution_count": 63,
   "metadata": {},
   "outputs": [
    {
     "data": {
      "text/plain": [
       "<Future at 0x13f988a00 state=pending>"
      ]
     },
     "execution_count": 63,
     "metadata": {},
     "output_type": "execute_result"
    },
    {
     "data": {
      "text/html": [
       "<pre style=\"white-space:pre;overflow-x:auto;line-height:normal;font-family:Menlo,'DejaVu Sans Mono',consolas,'Courier New',monospace\"></pre>\n"
      ],
      "text/plain": [
       "\u001b[?25l"
      ]
     },
     "metadata": {},
     "output_type": "display_data"
    },
    {
     "data": {
      "application/vnd.jupyter.widget-view+json": {
       "model_id": "9d4d7f9b1f4140b5ba67ab47ac962633",
       "version_major": 2,
       "version_minor": 0
      },
      "text/plain": [
       "Output()"
      ]
     },
     "metadata": {},
     "output_type": "display_data"
    },
    {
     "data": {
      "text/html": [
       "<pre style=\"white-space:pre;overflow-x:auto;line-height:normal;font-family:Menlo,'DejaVu Sans Mono',consolas,'Courier New',monospace\">\n",
       "</pre>\n"
      ],
      "text/plain": [
       "\n",
       "\u001b[?25h"
      ]
     },
     "metadata": {},
     "output_type": "display_data"
    }
   ],
   "source": []
  }
 ],
 "metadata": {
  "kernelspec": {
   "display_name": "p310",
   "language": "python",
   "name": "python3"
  },
  "language_info": {
   "codemirror_mode": {
    "name": "ipython",
    "version": 3
   },
   "file_extension": ".py",
   "mimetype": "text/x-python",
   "name": "python",
   "nbconvert_exporter": "python",
   "pygments_lexer": "ipython3",
   "version": "3.10.10"
  },
  "vscode": {
   "interpreter": {
    "hash": "0fb7ad1863bba2e2a149175e2f293cc7effc6691cc580cfc80ad00772d007246"
   }
  }
 },
 "nbformat": 4,
 "nbformat_minor": 2
}
