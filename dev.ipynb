{
 "cells": [
  {
   "cell_type": "code",
   "execution_count": null,
   "metadata": {},
   "outputs": [],
   "source": [
    "- reddit, get liked posts\n",
    "- twitter, get liked tweets\n",
    "- linkedin, get liked posts\n",
    "\n",
    "\n",
    "- consolidate into single format"
   ]
  },
  {
   "cell_type": "code",
   "execution_count": null,
   "metadata": {},
   "outputs": [],
   "source": [
    "body.properties.text.files should be defined, instead was `undefined`.\n",
    "body.properties.text.status should be defined, instead was `undefined`.\n",
    "body.properties.text.id should be defined, instead was `undefined`.\n",
    "body.properties.text.name should be defined, instead was `undefined`.\n",
    "body.properties.text.start should be defined, instead was `undefined`."
   ]
  },
  {
   "cell_type": "code",
   "execution_count": null,
   "metadata": {},
   "outputs": [],
   "source": [
    "import requests\n",
    "\n",
    "# Set the Github repository URL\n",
    "repo_url = \"https://github.com/thomaslu2000/Incremental-Parsing-Representations\"\n",
    ""
   ]
  },
  {
   "cell_type": "code",
   "execution_count": null,
   "metadata": {},
   "outputs": [],
   "source": [
    "from ingest.github import get_saved_repos, parse_repo\n",
    "\n",
    "repos = get_saved_repos()\n",
    ""
   ]
  },
  {
   "cell_type": "code",
   "execution_count": null,
   "metadata": {},
   "outputs": [],
   "source": [
    "repos\n",
    ""
   ]
  }
 ],
 "metadata": {
  "kernelspec": {
   "display_name": "p310",
   "language": "python",
   "name": "python3"
  },
  "language_info": {
   "codemirror_mode": {
    "name": "ipython",
    "version": 3
   },
   "file_extension": ".py",
   "mimetype": "text/x-python",
   "name": "python",
   "nbconvert_exporter": "python",
   "pygments_lexer": "ipython3",
   "version": "3.10.10"
  }
 },
 "nbformat": 4,
 "nbformat_minor": 2
}
